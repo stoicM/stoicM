{
  "cells": [
    {
      "cell_type": "markdown",
      "metadata": {
        "id": "view-in-github",
        "colab_type": "text"
      },
      "source": [
        "<a href=\"https://colab.research.google.com/github/stoicM/stoicM/blob/main/InvokeAI_LoRA_Metadata_Notebook.ipynb\" target=\"_parent\"><img src=\"https://colab.research.google.com/assets/colab-badge.svg\" alt=\"Open In Colab\"/></a>"
      ]
    },
    {
      "cell_type": "markdown",
      "id": "4eb0f0cb",
      "metadata": {
        "id": "4eb0f0cb"
      },
      "source": [
        "# 🎨 InvokeAI + LoRA Setup with Metadata Logging\n",
        "Includes:\n",
        "- Google Drive Mount\n",
        "- Custom Filename Templates\n",
        "- LoRA Load/Save Support\n",
        "- Metadata Logging for Prompt, Seed, Model, Filename"
      ]
    },
    {
      "cell_type": "code",
      "execution_count": null,
      "id": "633046cb",
      "metadata": {
        "id": "633046cb"
      },
      "outputs": [],
      "source": [
        "# 📂 Mount Google Drive\n",
        "from google.colab import drive\n",
        "drive.mount('/content/drive')"
      ]
    },
    {
      "cell_type": "code",
      "execution_count": null,
      "id": "84ee900c",
      "metadata": {
        "id": "84ee900c"
      },
      "outputs": [],
      "source": [
        "# 🗂️ Set up working directories\n",
        "import os\n",
        "base_path = '/content/drive/MyDrive/InvokeAI'\n",
        "output_dir = f'{base_path}/images/generated'\n",
        "lora_dir = f'{base_path}/LoRA'\n",
        "meta_log_path = f'{base_path}/metadata/meta_log.csv'\n",
        "os.makedirs(output_dir, exist_ok=True)\n",
        "os.makedirs(lora_dir, exist_ok=True)\n",
        "os.makedirs(os.path.dirname(meta_log_path), exist_ok=True)\n",
        "!echo 'Folders ready.'"
      ]
    },
    {
      "cell_type": "code",
      "execution_count": null,
      "id": "d8daeddc",
      "metadata": {
        "id": "d8daeddc"
      },
      "outputs": [],
      "source": [
        "# ⚙️ Install dependencies\n",
        "!pip install -q diffusers transformers accelerate safetensors gradio pandas ngrok"
      ]
    },
    {
      "cell_type": "code",
      "execution_count": null,
      "id": "5f912010",
      "metadata": {
        "id": "5f912010"
      },
      "outputs": [],
      "source": [
        "# 🔄 Load Model\n",
        "from diffusers import DiffusionPipeline\n",
        "pipe = DiffusionPipeline.from_pretrained(\n",
        "    'John6666/wai-nsfw-illustrious-v90-sdxl',\n",
        "    torch_dtype='auto'\n",
        ").to('cuda')"
      ]
    },
    {
      "cell_type": "code",
      "execution_count": null,
      "id": "8875ebf8",
      "metadata": {
        "id": "8875ebf8"
      },
      "outputs": [],
      "source": [
        "# 🎛️ UI for generation, filename tagging, and LoRA load (simulated)\n",
        "import gradio as gr\n",
        "from PIL import Image\n",
        "import time, random\n",
        "import pandas as pd\n",
        "\n",
        "def generate(prompt, pose_tag, use_seed, custom_seed, filename_prefix, lora_file):\n",
        "    seed = custom_seed if use_seed else random.randint(1000000, 9999999)\n",
        "    generator = pipe.generator.manual_seed(seed)\n",
        "    image = pipe(prompt, generator=generator).images[0]\n",
        "\n",
        "    timestamp = time.strftime('%Y%m%d-%H%M%S')\n",
        "    filename = f\"{filename_prefix}_{pose_tag}_{seed}_{timestamp}.png\"\n",
        "    save_path = os.path.join(output_dir, filename)\n",
        "    image.save(save_path)\n",
        "\n",
        "    df = pd.DataFrame([[filename, prompt, seed, 'wai-nsfw-illustrious-v90-sdxl', pose_tag, timestamp]],\n",
        "                      columns=['filename', 'prompt', 'seed', 'model', 'pose_tag', 'timestamp'])\n",
        "    if os.path.exists(meta_log_path):\n",
        "        df.to_csv(meta_log_path, mode='a', header=False, index=False)\n",
        "    else:\n",
        "        df.to_csv(meta_log_path, index=False)\n",
        "\n",
        "    return image\n",
        "\n",
        "gr.Interface(\n",
        "    fn=generate,\n",
        "    inputs=[\n",
        "        gr.Textbox(label='Prompt'),\n",
        "        gr.Textbox(label='Pose Tag (e.g., pose1, 2_3qrt)'),\n",
        "        gr.Checkbox(label='Use Custom Seed?'),\n",
        "        gr.Number(label='Seed (if checked)', value=123456),\n",
        "        gr.Textbox(label='Filename Prefix', value='alice'),\n",
        "        gr.Textbox(label='LoRA File (future use)', placeholder='e.g., alice_lora_v1.safetensors')\n",
        "    ],\n",
        "    outputs='image',\n",
        "    title='Alice Gen – InvokeAI w/ Metadata + LoRA Ready'\n",
        ").launch(share=True)"
      ]
    }
  ],
  "metadata": {
    "colab": {
      "provenance": [],
      "include_colab_link": true
    }
  },
  "nbformat": 4,
  "nbformat_minor": 5
}